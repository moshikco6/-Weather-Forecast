{
 "cells": [
  {
   "cell_type": "code",
   "execution_count": 58,
   "metadata": {},
   "outputs": [],
   "source": [
    "import pandas as pd\n",
    "import requests\n",
    "import base64\n",
    "from datetime import datetime, timedelta\n"
   ]
  },
  {
   "attachments": {},
   "cell_type": "markdown",
   "metadata": {},
   "source": [
    "api_key = \"9BBBELQU69JG4JZNMHKNC8WWJ\" \n",
    "location = \"Berlin\"\n",
    "start_date = datetime(2013,5,15)\n",
    "end_date = datetime(2023,5,15)\n",
    "\n",
    "\n",
    "url = f\"https://weather.visualcrossing.com/VisualCrossingWebServices/rest/services/timeline/{location}/{start_date.strftime(\"%Y-%m-%d\")}/{end_date.strftime(\"%Y-%m-%d\")}?unitGroup=metric&include=days&key={api_key}&contentType=json\"\n",
    "response = requests.get(url)\n",
    "if response.status_code == 200:\n",
    "    data = response.json()\n",
    "\n",
    "df = pd.read_json(data)\n",
    "\n",
    "df.to_csv(\"weather_data_From_5_YearsAgo.csv\", index=False)\n",
    "\n"
   ]
  },
  {
   "cell_type": "code",
   "execution_count": 59,
   "metadata": {},
   "outputs": [],
   "source": [
    "tbl1 = pd.read_csv(\"weather_data_From_5_YearsAgo.csv.csv\")\n",
    "tbl2 = pd.read_csv(\"Last 10 years weather.csv\")\n"
   ]
  },
  {
   "cell_type": "code",
   "execution_count": 60,
   "metadata": {},
   "outputs": [],
   "source": [
    "tbl2 = tbl2.iloc[14:]\n"
   ]
  },
  {
   "cell_type": "code",
   "execution_count": 61,
   "metadata": {},
   "outputs": [
    {
     "data": {
      "text/plain": [
       "3653"
      ]
     },
     "execution_count": 61,
     "metadata": {},
     "output_type": "execute_result"
    }
   ],
   "source": [
    "len(tbl1)"
   ]
  },
  {
   "cell_type": "code",
   "execution_count": 62,
   "metadata": {},
   "outputs": [
    {
     "data": {
      "text/plain": [
       "3653"
      ]
     },
     "execution_count": 62,
     "metadata": {},
     "output_type": "execute_result"
    }
   ],
   "source": [
    "len(tbl2)"
   ]
  },
  {
   "cell_type": "code",
   "execution_count": 63,
   "metadata": {},
   "outputs": [],
   "source": [
    "new_df = pd.DataFrame(columns=[\"location\", \"date\", \"Temp_Max\", \"Temp_Min\", \"Temp_Ave\", \"Feels_Like\", \"humidity\", \"Snow\", \"Rain\", \"Wind_Speed\", \"Cloud_Conver\", \"Sunrise\", \"Sunset\", \"Description\"])\n"
   ]
  },
  {
   "cell_type": "code",
   "execution_count": 64,
   "metadata": {},
   "outputs": [],
   "source": [
    "def calculate_average_date(date1, date2):\n",
    "    date2 = date2 + ':00'\n",
    "    dt1 = datetime.strptime(date1, '%Y-%m-%dT%H:%M:%S')\n",
    "    dt2 = datetime.strptime(date2, '%Y-%m-%dT%H:%M:%S')\n",
    "\n",
    "    time_diff = dt2 - dt1\n",
    "    average_dt = dt1 + (time_diff / 2)\n",
    "    return average_dt.strftime('%H:%M:%S')"
   ]
  },
  {
   "cell_type": "code",
   "execution_count": 65,
   "metadata": {},
   "outputs": [],
   "source": [
    "new_df = pd.DataFrame(columns=[\"location\", \"date\", \"Temp_Max\", \"Temp_Min\", \"Temp_Ave\", \"Feels_Like\", \"humidity\", \"Snow\", \"Rain\", \"Wind_Speed\", \"Cloud_Conver\", \"Sunrise\", \"Sunset\", \"Description\"])\n",
    "\n",
    "for index, row in tbl1.iterrows():\n",
    "    rowsTbl2 = tbl2.iloc[index]\n",
    "    if datetime.strptime(row['datetime'], '%Y-%m-%d').date() == datetime.strptime(rowsTbl2[\"time\"], '%d/%m/%Y').date():\n",
    "        location = row['name']\n",
    "        date = row['datetime']\n",
    "        temp_max = int(row['tempmax']) + int(rowsTbl2[\"temperature_2m_max (°C)\"]) / 2 \n",
    "        temp_min = int(row['tempmin']) + int(rowsTbl2[\"temperature_2m_min (°C)\"]) / 2\n",
    "        temp_ave = int(row['temp']) + int(rowsTbl2[\"temperature_2m_mean (°C)\"]) / 2\n",
    "        feels_like = int(row['feelslike'])\n",
    "        humidity = int(row['humidity'])\n",
    "        snow = int(row['snow']) + int(rowsTbl2['snowfall_sum (cm)']) / 2\n",
    "        rain = int(row['precip']) - int(row['snow']) + int(rowsTbl2['rain_sum (mm)']) / 2\n",
    "        wind_speed = int(row['windspeed']) + int(rowsTbl2['windspeed_10m_max (km/h)']) / 2\n",
    "        cloud_cover = str(row['cloudcover']) + '%'\n",
    "        sunrise = calculate_average_date(row['sunrise'], rowsTbl2[\"sunrise (iso8601)\"])\n",
    "        sunset = calculate_average_date(row['sunset'], rowsTbl2[\"sunset (iso8601)\"])\n",
    "        description = row['description']\n",
    "    else:\n",
    "        location = row['name']\n",
    "        date = row['datetime']\n",
    "        temp_max = row['tempmax']\n",
    "        temp_min = row['tempmin']\n",
    "        temp_ave = row['temp']\n",
    "        feels_like = row['feelslike']\n",
    "        humidity = row['humidity']\n",
    "        snow = row['snow']\n",
    "        rain = row['precip']\n",
    "        wind_speed = row['windspeed']\n",
    "        cloud_cover = str(row['cloudcover']) + '%'\n",
    "        sunrise = row['sunrise']\n",
    "        sunset = row['sunset']\n",
    "        description = row['description']\n",
    "    new_df.loc[len(new_df.index)] = [location,date,temp_max,temp_min,temp_ave,feels_like,humidity,snow,rain,wind_speed,cloud_cover,sunrise,sunset,description] \n"
   ]
  },
  {
   "cell_type": "code",
   "execution_count": 66,
   "metadata": {},
   "outputs": [],
   "source": [
    "new_df.to_csv(\"Merge weather.csv\")"
   ]
  },
  {
   "cell_type": "code",
   "execution_count": null,
   "metadata": {},
   "outputs": [],
   "source": []
  }
 ],
 "metadata": {
  "kernelspec": {
   "display_name": "base",
   "language": "python",
   "name": "python3"
  },
  "language_info": {
   "codemirror_mode": {
    "name": "ipython",
    "version": 3
   },
   "file_extension": ".py",
   "mimetype": "text/x-python",
   "name": "python",
   "nbconvert_exporter": "python",
   "pygments_lexer": "ipython3",
   "version": "3.10.4"
  },
  "orig_nbformat": 4
 },
 "nbformat": 4,
 "nbformat_minor": 2
}
