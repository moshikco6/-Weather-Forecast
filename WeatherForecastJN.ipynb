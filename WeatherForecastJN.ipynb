{
 "cells": [
  {
   "cell_type": "code",
   "execution_count": null,
   "metadata": {},
   "outputs": [],
   "source": [
    "import pandas as pd\n",
    "import requests\n",
    "import base64\n",
    "from datetime import datetime, timedelta"
   ]
  },
  {
   "cell_type": "code",
   "execution_count": null,
   "metadata": {},
   "outputs": [],
   "source": [
    "api_key = \"12f557744631f5409ba0e2093a33d4f7\"  # Replace with your OpenWeatherMap API key\n",
    "location = \"Berlin\"\n",
    "start_date = datetime.now() - timedelta(days=5 * 365)\n",
    "\n",
    "weather_data = []\n",
    "\n",
    "# Request weather data for each month from 2 years ago until now\n",
    "while start_date < datetime.now():\n",
    "    timestamp = int(start_date.timestamp())\n",
    "    url = f\"https://api.openweathermap.org/data/2.5/forecast?q={location}&dt={timestamp}&appid={api_key}\"\n",
    "    response = requests.get(url)\n",
    "    if response.status_code == 200:\n",
    "        data = response.json()\n",
    "        for forecast in data['list']:\n",
    "            weather_data.append(forecast)\n",
    "    start_date += timedelta(days=30)  # Increment to the next month\n",
    "\n",
    "# Create a Pandas DataFrame from the weather data\n",
    "df = pd.DataFrame(weather_data)\n",
    "\n",
    "# Save the DataFrame to a CSV file\n",
    "df.to_csv(\"weather_data_From_5_YearsAgo.csv\", index=False)\n",
    "\n",
    "print(\"Weather data saved to weather_data.csv\")"
   ]
  }
 ],
 "metadata": {
  "kernelspec": {
   "display_name": "base",
   "language": "python",
   "name": "python3"
  },
  "language_info": {
   "codemirror_mode": {
    "name": "ipython",
    "version": 3
   },
   "file_extension": ".py",
   "mimetype": "text/x-python",
   "name": "python",
   "nbconvert_exporter": "python",
   "pygments_lexer": "ipython3",
   "version": "3.9.13"
  },
  "orig_nbformat": 4
 },
 "nbformat": 4,
 "nbformat_minor": 2
}
